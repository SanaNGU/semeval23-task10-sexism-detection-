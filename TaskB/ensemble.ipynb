{
 "cells": [
  {
   "cell_type": "code",
   "execution_count": 22,
   "metadata": {},
   "outputs": [],
   "source": []
  },
  {
   "cell_type": "code",
   "execution_count": 6,
   "metadata": {},
   "outputs": [],
   "source": []
  },
  {
   "cell_type": "code",
   "execution_count": 99,
   "metadata": {},
   "outputs": [],
   "source": [
    "import sys\n",
    "import numpy as np\n",
    "import pandas as pd\n",
    "from sklearn.metrics import confusion_matrix, f1_score\n",
    "test_data=pd.read_csv('/home/sanala/Juputer try/final_EDOS/vinai/bertweet-large-ot/submission/pred_.csv')\n",
    "from collections import Counter\n",
    "model_path = {\n",
    "    'bertweet': '/home/sanala/Juputer try/final_EDOS/vinai/bertweet-large-ot/submission/predictions_soft.csv',\n",
    "    'roberta': '/home/sanala/Juputer try/final_EDOS/roberta-large-ot/submission/predictions_soft.csv',\n",
    "   'deberta': '/home/sanala/Juputer try/final_EDOS/microsoft/deberta-v3-large-ot/submission/predictions_soft.csv',\n",
    "\n",
    "\n",
    "\n",
    "\n",
    "\n",
    "}\n",
    " \n",
    "\n",
    "inverse_category = {\n",
    "    0: 'not sexist',\n",
    "    1: 'sexist',\n",
    "\n",
    "}\n",
    "\n",
    "# read all predictions\n",
    "df = {}\n",
    "for key, value in model_path.items():\n",
    "    df[key] = pd.read_csv(model_path[key])"
   ]
  },
  {
   "cell_type": "code",
   "execution_count": 100,
   "metadata": {},
   "outputs": [
    {
     "data": {
      "text/plain": [
       "[0.9554126262664795, 0.044587392359972]"
      ]
     },
     "execution_count": 100,
     "metadata": {},
     "output_type": "execute_result"
    }
   ],
   "source": [
    "ast.literal_eval(df['roberta']['label_soft'][0])"
   ]
  },
  {
   "cell_type": "code",
   "execution_count": 101,
   "metadata": {},
   "outputs": [
    {
     "name": "stdout",
     "output_type": "stream",
     "text": [
      "['sexist', 1, '[0.0006977779557928443, 0.9993024468421936]', '\"that tall man must certaily be better with women because of his large muscles big penis ... just imagine him naked those perfect lines naked muscles .... that is why i hate women\"']\n",
      "['sexist', 1, '[0.0006977779557928443, 0.9993024468421936]', '\"that tall man must certaily be better with women because of his large muscles big penis ... just imagine him naked those perfect lines naked muscles .... that is why i hate women\"']\n"
     ]
    }
   ],
   "source": [
    " \n",
    "print(df['roberta'].iloc[1].values.tolist()[1:])\n",
    "print(df['roberta'].iloc[1].values.tolist()[1:])"
   ]
  },
  {
   "cell_type": "markdown",
   "metadata": {},
   "source": [
    "# Ensemble logits"
   ]
  },
  {
   "cell_type": "code",
   "execution_count": 103,
   "metadata": {},
   "outputs": [],
   "source": [
    "##\n",
    "answer = [] \n",
    "for i in range(len(df['bertweet'])):\n",
    "    logits = []\n",
    "\n",
    "\n",
    "        # 0 is index in dataframe\n",
    "    for log_1, log_2, log_3 in zip(df['bertweet'].iloc[i].values.tolist()[2:3], df['roberta'].iloc[i].values.tolist()[2:3], df['deberta'].iloc[i].values.tolist()[2:3]):\n",
    "\n",
    "        logits=[log_1,log_2,log_3]\n",
    "        vote_count = Counter(logits)\n",
    "        top_one = vote_count.most_common(1)[0][0]\n",
    "        #print(top_one)\n",
    "        answer.append(inverse_category[top_one])\n",
    "        #print(inverse_category[top_one])"
   ]
  },
  {
   "cell_type": "code",
   "execution_count": 104,
   "metadata": {},
   "outputs": [],
   "source": [
    " \n",
    "test_data['label_pred']=answer\n",
    "#test_data.drop('text', axis=1, inplace=True) \n",
    "test_data.to_csv('/home/sanala/Juputer try/final_EDOS/ensemble-hard.csv', index=False)\n",
    " # answer.to_csv('answer.csv', index = False)"
   ]
  },
  {
   "cell_type": "markdown",
   "metadata": {},
   "source": [
    "# Ensemble probabilities"
   ]
  },
  {
   "cell_type": "code",
   "execution_count": 97,
   "metadata": {},
   "outputs": [],
   "source": [
    "answer = [] \n",
    "import ast\n",
    "for i in range(len(df['bertweet'])):\n",
    "\n",
    "    prob_1=ast.literal_eval(df['bertweet']['label_soft'][i])\n",
    "    prob_2=ast.literal_eval(df['deberta']['label_soft'][i])\n",
    "    prob_3=ast.literal_eval(df['roberta']['label_soft'][i])\n",
    "    prob_4=ast.literal_eval(df['bertweet2']['label_soft'][i])\n",
    "    prob_5=ast.literal_eval(df['deberta2']['label_soft'][i])\n",
    "    prob_6=ast.literal_eval(df['roberta2']['label_soft'][i])\n",
    "    #print(prob_1,prob_2,prob_3)\n",
    "    n=[(x + y +z+i+j+k)/6 for x, y, z,i,j,k in zip(prob_1, prob_2,prob_3,prob_4, prob_5,prob_6)]\n",
    "    n=np.argmax(n)\n",
    "    answer.append(inverse_category[n])\n",
    "\n"
   ]
  },
  {
   "cell_type": "code",
   "execution_count": 98,
   "metadata": {},
   "outputs": [],
   "source": [
    "test_data['label_pred']=answer\n",
    "test_data.to_csv('/home/sanala/Juputer try/final_EDOS/ensemble-soft.csv', index=False)\n"
   ]
  },
  {
   "cell_type": "code",
   "execution_count": 79,
   "metadata": {},
   "outputs": [],
   "source": []
  },
  {
   "cell_type": "code",
   "execution_count": null,
   "metadata": {},
   "outputs": [],
   "source": []
  }
 ],
 "metadata": {
  "kernelspec": {
   "display_name": "env-hsd",
   "language": "python",
   "name": "env-hsd"
  },
  "language_info": {
   "codemirror_mode": {
    "name": "ipython",
    "version": 3
   },
   "file_extension": ".py",
   "mimetype": "text/x-python",
   "name": "python",
   "nbconvert_exporter": "python",
   "pygments_lexer": "ipython3",
   "version": "3.8.5"
  }
 },
 "nbformat": 4,
 "nbformat_minor": 4
}
